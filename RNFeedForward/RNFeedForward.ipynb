{
 "cells": [
  {
   "cell_type": "markdown",
   "metadata": {},
   "source": [
    "# Redes neuronales Feed Forward\n",
    "**Inteligencia artificial** <br>\n",
    "**Hoja de trabajo no. 2** <br>\n",
    "Diego Sevilla <br>\n",
    "17238"
   ]
  },
  {
   "cell_type": "markdown",
   "metadata": {},
   "source": [
    "### Se importan librerias"
   ]
  },
  {
   "cell_type": "code",
   "execution_count": 3,
   "metadata": {},
   "outputs": [],
   "source": [
    "import numpy as np # para operaciones con matrices y vectores\n",
    "import pandas as pd \n",
    "from scipy import optimize as op\n",
    "from numpy import genfromtxt # para obetener los datos\n",
    "from matplotlib import pyplot as plt # para graficar\n",
    "from matplotlib import image as mpimg # para graficar\n",
    "\n",
    "from AlgoritmoRN import *\n",
    "import time"
   ]
  },
  {
   "cell_type": "markdown",
   "metadata": {},
   "source": [
    "Datasets adquiridos de: https://www.kaggle.com/zalando-research/fashionmnist#fashion-mnist_test.csv <br>\n",
    "### Se leen los data_sets: "
   ]
  },
  {
   "cell_type": "code",
   "execution_count": 4,
   "metadata": {},
   "outputs": [
    {
     "name": "stdout",
     "output_type": "stream",
     "text": [
      "       label  pixel1  pixel2  pixel3  pixel4  pixel5  pixel6  pixel7  pixel8  \\\n",
      "0          2       0       0       0       0       0       0       0       0   \n",
      "1          9       0       0       0       0       0       0       0       0   \n",
      "2          6       0       0       0       0       0       0       0       5   \n",
      "3          0       0       0       0       1       2       0       0       0   \n",
      "4          3       0       0       0       0       0       0       0       0   \n",
      "...      ...     ...     ...     ...     ...     ...     ...     ...     ...   \n",
      "59995      9       0       0       0       0       0       0       0       0   \n",
      "59996      1       0       0       0       0       0       0       0       0   \n",
      "59997      8       0       0       0       0       0       0       0       0   \n",
      "59998      8       0       0       0       0       0       0       0       0   \n",
      "59999      7       0       0       0       0       0       0       0       0   \n",
      "\n",
      "       pixel9  ...  pixel775  pixel776  pixel777  pixel778  pixel779  \\\n",
      "0           0  ...         0         0         0         0         0   \n",
      "1           0  ...         0         0         0         0         0   \n",
      "2           0  ...         0         0         0        30        43   \n",
      "3           0  ...         3         0         0         0         0   \n",
      "4           0  ...         0         0         0         0         0   \n",
      "...       ...  ...       ...       ...       ...       ...       ...   \n",
      "59995       0  ...         0         0         0         0         0   \n",
      "59996       0  ...        73         0         0         0         0   \n",
      "59997       0  ...       160       162       163       135        94   \n",
      "59998       0  ...         0         0         0         0         0   \n",
      "59999       0  ...         0         0         0         0         0   \n",
      "\n",
      "       pixel780  pixel781  pixel782  pixel783  pixel784  \n",
      "0             0         0         0         0         0  \n",
      "1             0         0         0         0         0  \n",
      "2             0         0         0         0         0  \n",
      "3             1         0         0         0         0  \n",
      "4             0         0         0         0         0  \n",
      "...         ...       ...       ...       ...       ...  \n",
      "59995         0         0         0         0         0  \n",
      "59996         0         0         0         0         0  \n",
      "59997         0         0         0         0         0  \n",
      "59998         0         0         0         0         0  \n",
      "59999         0         0         0         0         0  \n",
      "\n",
      "[60000 rows x 785 columns]\n"
     ]
    }
   ],
   "source": [
    "##train_data = genfromtxt('fashion-mnist_train.csv', delimiter=',')\n",
    "train_data = pd.read_csv('fashion-mnist_train.csv')\n",
    "print(train_data)"
   ]
  },
  {
   "cell_type": "code",
   "execution_count": 5,
   "metadata": {},
   "outputs": [
    {
     "name": "stdout",
     "output_type": "stream",
     "text": [
      "      label  pixel1  pixel2  pixel3  pixel4  pixel5  pixel6  pixel7  pixel8  \\\n",
      "0         0       0       0       0       0       0       0       0       9   \n",
      "1         1       0       0       0       0       0       0       0       0   \n",
      "2         2       0       0       0       0       0       0      14      53   \n",
      "3         2       0       0       0       0       0       0       0       0   \n",
      "4         3       0       0       0       0       0       0       0       0   \n",
      "...     ...     ...     ...     ...     ...     ...     ...     ...     ...   \n",
      "9995      0       0       0       0       0       0       0       0       0   \n",
      "9996      6       0       0       0       0       0       0       0       0   \n",
      "9997      8       0       0       0       0       0       0       0       0   \n",
      "9998      8       0       1       3       0       0       0       0       0   \n",
      "9999      1       0       0       0       0       0       0       0     140   \n",
      "\n",
      "      pixel9  ...  pixel775  pixel776  pixel777  pixel778  pixel779  pixel780  \\\n",
      "0          8  ...       103        87        56         0         0         0   \n",
      "1          0  ...        34         0         0         0         0         0   \n",
      "2         99  ...         0         0         0         0        63        53   \n",
      "3          0  ...       137       126       140         0       133       224   \n",
      "4          0  ...         0         0         0         0         0         0   \n",
      "...      ...  ...       ...       ...       ...       ...       ...       ...   \n",
      "9995       0  ...        32        23        14        20         0         0   \n",
      "9996       0  ...         0         0         0         2        52        23   \n",
      "9997       0  ...       175       172       172       182       199       222   \n",
      "9998       0  ...         0         0         0         0         0         1   \n",
      "9999     119  ...       111        95        75        44         1         0   \n",
      "\n",
      "      pixel781  pixel782  pixel783  pixel784  \n",
      "0            0         0         0         0  \n",
      "1            0         0         0         0  \n",
      "2           31         0         0         0  \n",
      "3          222        56         0         0  \n",
      "4            0         0         0         0  \n",
      "...        ...       ...       ...       ...  \n",
      "9995         1         0         0         0  \n",
      "9996        28         0         0         0  \n",
      "9997        42         0         1         0  \n",
      "9998         0         0         0         0  \n",
      "9999         0         0         0         0  \n",
      "\n",
      "[10000 rows x 785 columns]\n"
     ]
    }
   ],
   "source": [
    "##test_data = genfromtxt('fashion-mnist_test.csv', delimiter=',')\n",
    "test_data = pd.read_csv('fashion-mnist_test.csv')\n",
    "print(test_data)"
   ]
  },
  {
   "cell_type": "markdown",
   "metadata": {},
   "source": [
    "### Organizacion de los datos"
   ]
  },
  {
   "cell_type": "markdown",
   "metadata": {},
   "source": [
    "**Normalizacion de los datos**"
   ]
  },
  {
   "cell_type": "code",
   "execution_count": 6,
   "metadata": {},
   "outputs": [],
   "source": [
    "NORMALIZADOR = 1000.0"
   ]
  },
  {
   "cell_type": "markdown",
   "metadata": {},
   "source": [
    "#### Vector X"
   ]
  },
  {
   "cell_type": "code",
   "execution_count": 7,
   "metadata": {},
   "outputs": [],
   "source": [
    "x_tr = train_data.iloc[:, 1:] / NORMALIZADOR\n",
    "m_tr, n_tr = x_tr.shape"
   ]
  },
  {
   "cell_type": "code",
   "execution_count": 8,
   "metadata": {},
   "outputs": [
    {
     "name": "stdout",
     "output_type": "stream",
     "text": [
      "(60000, 784)\n"
     ]
    }
   ],
   "source": [
    "print( x_tr.shape )"
   ]
  },
  {
   "cell_type": "code",
   "execution_count": 9,
   "metadata": {},
   "outputs": [],
   "source": [
    "x_t = test_data.iloc[:, 1:] / NORMALIZADOR\n",
    "m_t, n_t = x_t.shape"
   ]
  },
  {
   "cell_type": "code",
   "execution_count": 10,
   "metadata": {},
   "outputs": [
    {
     "name": "stdout",
     "output_type": "stream",
     "text": [
      "(10000, 784)\n"
     ]
    }
   ],
   "source": [
    "print( x_t.shape )"
   ]
  },
  {
   "cell_type": "code",
   "execution_count": 11,
   "metadata": {},
   "outputs": [],
   "source": [
    "X = np.vstack((\n",
    "    x_tr,\n",
    "    x_t\n",
    "))\n",
    "m, n = X.shape"
   ]
  },
  {
   "cell_type": "code",
   "execution_count": 12,
   "metadata": {},
   "outputs": [
    {
     "name": "stdout",
     "output_type": "stream",
     "text": [
      "(70000, 784)\n"
     ]
    }
   ],
   "source": [
    "print( X.shape )"
   ]
  },
  {
   "cell_type": "code",
   "execution_count": 13,
   "metadata": {},
   "outputs": [
    {
     "name": "stdout",
     "output_type": "stream",
     "text": [
      "[[0.    0.    0.    ... 0.    0.    0.   ]\n",
      " [0.    0.    0.    ... 0.    0.    0.   ]\n",
      " [0.    0.    0.    ... 0.    0.    0.   ]\n",
      " ...\n",
      " [0.    0.    0.    ... 0.    0.001 0.   ]\n",
      " [0.    0.001 0.003 ... 0.    0.    0.   ]\n",
      " [0.    0.    0.    ... 0.    0.    0.   ]]\n"
     ]
    }
   ],
   "source": [
    "print(X)"
   ]
  },
  {
   "cell_type": "markdown",
   "metadata": {},
   "source": [
    "#### Vector Y"
   ]
  },
  {
   "cell_type": "code",
   "execution_count": 14,
   "metadata": {},
   "outputs": [],
   "source": [
    "y_tr = np.asarray(train_data.iloc[:, 0])\n",
    "y_tr = y_tr.reshape(m_tr,1)\n",
    "\n",
    "y_t = np.asarray(test_data.iloc[:, 0])\n",
    "y_t = y_t.reshape(m_t,1)\n",
    "\n",
    "## \n",
    "y = np.vstack((\n",
    "    y_tr,\n",
    "    y_t\n",
    "))\n",
    "\n",
    "y = y.reshape(m, 1)\n",
    "\n",
    "# Matriz de categorizacion\n",
    "Y = (y == np.array(range(10))).astype(int)"
   ]
  },
  {
   "cell_type": "code",
   "execution_count": 15,
   "metadata": {},
   "outputs": [
    {
     "name": "stdout",
     "output_type": "stream",
     "text": [
      "[[2]\n",
      " [9]\n",
      " [6]\n",
      " ...\n",
      " [8]\n",
      " [8]\n",
      " [1]]\n"
     ]
    }
   ],
   "source": [
    "print(y)"
   ]
  },
  {
   "cell_type": "code",
   "execution_count": 16,
   "metadata": {},
   "outputs": [
    {
     "name": "stdout",
     "output_type": "stream",
     "text": [
      "[[0 0 1 ... 0 0 0]\n",
      " [0 0 0 ... 0 0 1]\n",
      " [0 0 0 ... 0 0 0]\n",
      " ...\n",
      " [0 0 0 ... 0 1 0]\n",
      " [0 0 0 ... 0 1 0]\n",
      " [0 1 0 ... 0 0 0]]\n"
     ]
    }
   ],
   "source": [
    "print(Y)"
   ]
  },
  {
   "cell_type": "markdown",
   "metadata": {},
   "source": [
    "### RED NEURONAL"
   ]
  },
  {
   "cell_type": "markdown",
   "metadata": {},
   "source": [
    "**Definicion de entradas de red neuronal, obtencion de shapes de theta y aplanacion de matrices**"
   ]
  },
  {
   "cell_type": "code",
   "execution_count": 17,
   "metadata": {},
   "outputs": [],
   "source": [
    "# Estructura de la red neuronal\n",
    "NETWORK_ARCHITECTURE = np.array([\n",
    "    n,\n",
    "    130,\n",
    "    10\n",
    "])\n",
    "\n",
    "# Funcion para los shapes de las thetas\n",
    "theta_shapes = np.hstack((\n",
    "    NETWORK_ARCHITECTURE[1:].reshape(len(NETWORK_ARCHITECTURE) - 1, 1),\n",
    "    (NETWORK_ARCHITECTURE[:-1] + 1).reshape(len(NETWORK_ARCHITECTURE) - 1, 1)\n",
    "))\n",
    "\n",
    "# Convierte la matriz a un array de thetas\n",
    "flat_thetas = flatten_list_of_arrays([\n",
    "    np.random.rand(*theta_shape)\n",
    "    for theta_shape in theta_shapes\n",
    "])"
   ]
  },
  {
   "cell_type": "markdown",
   "metadata": {},
   "source": [
    "**Proceso de entramiento y optimizacion**"
   ]
  },
  {
   "cell_type": "code",
   "execution_count": 18,
   "metadata": {},
   "outputs": [
    {
     "name": "stdout",
     "output_type": "stream",
     "text": [
      "\n",
      " Optimizando ..... \n",
      "\n"
     ]
    },
    {
     "name": "stderr",
     "output_type": "stream",
     "text": [
      "C:\\Users\\Diego Sevilla\\Documents\\Repositorios\\7mo Semestre\\Inteligencia Artificial\\Redes-Neuronales\\RNFeedForward\\AlgoritmoRN.py:37: RuntimeWarning: divide by zero encountered in log\n",
      "  return -(Y * np.log(a[-1]) + (1 - Y) * np.log(1 - a[-1])).sum() / len(X)\n",
      "C:\\Users\\Diego Sevilla\\Documents\\Repositorios\\7mo Semestre\\Inteligencia Artificial\\Redes-Neuronales\\RNFeedForward\\AlgoritmoRN.py:37: RuntimeWarning: invalid value encountered in multiply\n",
      "  return -(Y * np.log(a[-1]) + (1 - Y) * np.log(1 - a[-1])).sum() / len(X)\n"
     ]
    },
    {
     "name": "stdout",
     "output_type": "stream",
     "text": [
      "\n",
      " Fin de optimizacion ..... \n",
      "\n"
     ]
    }
   ],
   "source": [
    "# Optimizacion para encontrar thetas\n",
    "print(\"\\n Optimizando ..... \\n\")\n",
    "result = op.minimize(\n",
    "    fun = cost_function,\n",
    "    x0 = flat_thetas,\n",
    "    args = (theta_shapes, X, Y),\n",
    "    method = 'L-BFGS-B',\n",
    "    jac = back_propagation,\n",
    "    options = {'disp': True, 'maxiter': 3000}\n",
    ")\n",
    "print(\"\\n Fin de optimizacion ..... \\n\")"
   ]
  },
  {
   "cell_type": "code",
   "execution_count": null,
   "metadata": {},
   "outputs": [],
   "source": [
    "# Se guarda el resultado de thetas optimizadas\n",
    "np.savetxt('thetas_op.txt', result.x)"
   ]
  },
  {
   "cell_type": "code",
   "execution_count": null,
   "metadata": {},
   "outputs": [],
   "source": []
  },
  {
   "cell_type": "markdown",
   "metadata": {},
   "source": []
  },
  {
   "cell_type": "code",
   "execution_count": null,
   "metadata": {},
   "outputs": [],
   "source": []
  }
 ],
 "metadata": {
  "kernelspec": {
   "display_name": "Python 3",
   "language": "python",
   "name": "python3"
  },
  "language_info": {
   "codemirror_mode": {
    "name": "ipython",
    "version": 3
   },
   "file_extension": ".py",
   "mimetype": "text/x-python",
   "name": "python",
   "nbconvert_exporter": "python",
   "pygments_lexer": "ipython3",
   "version": "3.8.2"
  }
 },
 "nbformat": 4,
 "nbformat_minor": 2
}
